{
 "cells": [
  {
   "cell_type": "markdown",
   "metadata": {},
   "source": [
    "POLAR COORDINATES"
   ]
  },
  {
   "cell_type": "code",
   "execution_count": 1,
   "metadata": {},
   "outputs": [
    {
     "name": "stdout",
     "output_type": "stream",
     "text": [
      "Enter a complex Number : 1+2J\n",
      "2.23606797749979\n",
      "1.1071487177940904\n"
     ]
    }
   ],
   "source": [
    "import cmath\n",
    "Number = complex(input('Enter a complex Number : '))\n",
    "Z = complex(Number)\n",
    "print(cmath.polar(Z)[0])\n",
    "print(cmath.polar(Z)[1])\n",
    "\n"
   ]
  },
  {
   "cell_type": "markdown",
   "metadata": {},
   "source": [
    "FIND ANGLE MBC"
   ]
  },
  {
   "cell_type": "code",
   "execution_count": 2,
   "metadata": {},
   "outputs": [
    {
     "name": "stdout",
     "output_type": "stream",
     "text": [
      "Enter length of side AB : 3\n",
      "Enter length of side BC : 4\n",
      "Length of hypotenuse is :  5.0\n",
      "37°\n"
     ]
    }
   ],
   "source": [
    "\n",
    "import math\n",
    "\n",
    "AB = float(input('Enter length of side AB : '))\n",
    "BC = float(input('Enter length of side BC : '))\n",
    "AC = math.sqrt((AB**2) + (BC**2))\n",
    "print('Length of hypotenuse is : ', AC)\n",
    "MC = AC/2\n",
    "X = BC/2\n",
    "Angle = int(round(math.degrees(math.acos(X/MC))))\n",
    "Angle = str(Angle)\n",
    "sym = chr(176)\n",
    "print(Angle + sym )"
   ]
  },
  {
   "cell_type": "markdown",
   "metadata": {},
   "source": [
    "\n",
    "TRIANGLE QUEST 2"
   ]
  },
  {
   "cell_type": "code",
   "execution_count": 3,
   "metadata": {},
   "outputs": [
    {
     "name": "stdout",
     "output_type": "stream",
     "text": [
      "Enter a number : 5\n",
      "1.0\n",
      "121.0\n",
      "12321.0\n",
      "1234321.0\n",
      "123454321.0\n"
     ]
    }
   ],
   "source": [
    "Number = int(input('Enter a number : '))\n",
    "for i in range(1, Number + 1): \n",
    "    print(float((10**i-1)/(9))**2)"
   ]
  },
  {
   "cell_type": "markdown",
   "metadata": {},
   "source": [
    "MOD DIVMOD"
   ]
  },
  {
   "cell_type": "code",
   "execution_count": 4,
   "metadata": {},
   "outputs": [
    {
     "name": "stdout",
     "output_type": "stream",
     "text": [
      "Enter first number : 80\n",
      "Enter Second number : 10\n",
      "Integar division(Quotient) :  8\n",
      "Modulus division(Remainder) :  0\n",
      "Using divmod :  (8, 0)\n"
     ]
    }
   ],
   "source": [
    "\n",
    "A = int(input('Enter first number : '))\n",
    "B = int(input('Enter Second number : '))\n",
    "print('Integar division(Quotient) : ',A//B)\n",
    "print('Modulus division(Remainder) : ',A%B)\n",
    "print('Using divmod : ',divmod(A,B))"
   ]
  },
  {
   "cell_type": "markdown",
   "metadata": {},
   "source": [
    "POWER - MOD POWER"
   ]
  },
  {
   "cell_type": "code",
   "execution_count": 5,
   "metadata": {},
   "outputs": [
    {
     "name": "stdout",
     "output_type": "stream",
     "text": [
      "Enter first number : 2\n",
      "Enter Second number : 4\n",
      "Enter Third number : 5\n",
      "16\n",
      "1\n"
     ]
    }
   ],
   "source": [
    "A = int(input('Enter first number : '))\n",
    "B = int(input('Enter Second number : '))\n",
    "C = int(input('Enter Third number : '))  \n",
    "print(pow(A,B)) \n",
    "print(pow(A,B,C))"
   ]
  },
  {
   "cell_type": "markdown",
   "metadata": {},
   "source": [
    "INTEGERS COMES IN ALL SIZES"
   ]
  },
  {
   "cell_type": "code",
   "execution_count": 6,
   "metadata": {},
   "outputs": [
    {
     "name": "stdout",
     "output_type": "stream",
     "text": [
      "Enter first number : 5\n",
      "Enter Second number : 4\n",
      "Enter Third number : 6\n",
      "Enter Fourth number : 4\n",
      "1921\n"
     ]
    }
   ],
   "source": [
    "A = int(input('Enter first number : '))\n",
    "B = int(input('Enter Second number : '))\n",
    "C = int(input('Enter Third number : ')) \n",
    "D = int(input('Enter Fourth number : '))\n",
    "print(pow(A,B) + pow(C,D))"
   ]
  },
  {
   "cell_type": "markdown",
   "metadata": {},
   "source": [
    "\n",
    "TRIANGLE QUEST"
   ]
  },
  {
   "cell_type": "code",
   "execution_count": 7,
   "metadata": {},
   "outputs": [
    {
     "name": "stdout",
     "output_type": "stream",
     "text": [
      "Enter a number : 6\n",
      "1\n",
      "22\n",
      "333\n",
      "4444\n",
      "55555\n"
     ]
    }
   ],
   "source": [
    "Number = int(input('Enter a number : '))\n",
    "for i in range(1 , Number): \n",
    "    print(int(i * 10 ** i / 9))"
   ]
  },
  {
   "cell_type": "code",
   "execution_count": null,
   "metadata": {},
   "outputs": [],
   "source": []
  }
 ],
 "metadata": {
  "kernelspec": {
   "display_name": "Python 3",
   "language": "python",
   "name": "python3"
  },
  "language_info": {
   "codemirror_mode": {
    "name": "ipython",
    "version": 3
   },
   "file_extension": ".py",
   "mimetype": "text/x-python",
   "name": "python",
   "nbconvert_exporter": "python",
   "pygments_lexer": "ipython3",
   "version": "3.7.4"
  }
 },
 "nbformat": 4,
 "nbformat_minor": 2
}
