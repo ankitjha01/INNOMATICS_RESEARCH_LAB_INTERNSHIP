{
 "cells": [
  {
   "cell_type": "markdown",
   "metadata": {},
   "source": [
    "\n",
    "LIST COMPREHENSIONS"
   ]
  },
  {
   "cell_type": "code",
   "execution_count": 1,
   "metadata": {},
   "outputs": [
    {
     "name": "stdout",
     "output_type": "stream",
     "text": [
      "Enter the integer : 3\n",
      "Enter the integer : 4\n",
      "Enter the integer : 4\n",
      "Enter the integer : 5\n",
      "[[0, 0, 0], [0, 0, 1], [0, 0, 2], [0, 0, 3], [0, 0, 4], [0, 1, 0], [0, 1, 1], [0, 1, 2], [0, 1, 3], [0, 2, 0], [0, 2, 1], [0, 2, 2], [0, 2, 4], [0, 3, 0], [0, 3, 1], [0, 3, 3], [0, 3, 4], [0, 4, 0], [0, 4, 2], [0, 4, 3], [0, 4, 4], [1, 0, 0], [1, 0, 1], [1, 0, 2], [1, 0, 3], [1, 1, 0], [1, 1, 1], [1, 1, 2], [1, 1, 4], [1, 2, 0], [1, 2, 1], [1, 2, 3], [1, 2, 4], [1, 3, 0], [1, 3, 2], [1, 3, 3], [1, 3, 4], [1, 4, 1], [1, 4, 2], [1, 4, 3], [1, 4, 4], [2, 0, 0], [2, 0, 1], [2, 0, 2], [2, 0, 4], [2, 1, 0], [2, 1, 1], [2, 1, 3], [2, 1, 4], [2, 2, 0], [2, 2, 2], [2, 2, 3], [2, 2, 4], [2, 3, 1], [2, 3, 2], [2, 3, 3], [2, 3, 4], [2, 4, 0], [2, 4, 1], [2, 4, 2], [2, 4, 3], [2, 4, 4], [3, 0, 0], [3, 0, 1], [3, 0, 3], [3, 0, 4], [3, 1, 0], [3, 1, 2], [3, 1, 3], [3, 1, 4], [3, 2, 1], [3, 2, 2], [3, 2, 3], [3, 2, 4], [3, 3, 0], [3, 3, 1], [3, 3, 2], [3, 3, 3], [3, 3, 4], [3, 4, 0], [3, 4, 1], [3, 4, 2], [3, 4, 3], [3, 4, 4]]\n"
     ]
    }
   ],
   "source": [
    "x, y, z, n = (int(input('Enter the integer : ')) for _ in range(4))\n",
    "print([[i, j, k] for i in range(x + 1) for j in range(y + 1) for k in range(z + 1) if (( i + j + k ) != n )])\n"
   ]
  },
  {
   "cell_type": "markdown",
   "metadata": {},
   "source": [
    "FIND THE RUNNER-UP SCORES!"
   ]
  },
  {
   "cell_type": "code",
   "execution_count": 2,
   "metadata": {},
   "outputs": [
    {
     "name": "stdout",
     "output_type": "stream",
     "text": [
      "Enter the number of scores : 4\n",
      "Enter scores separated by space : 1 2 3 4\n",
      "The runner up score is : 3\n"
     ]
    }
   ],
   "source": [
    "\n",
    "N = int(input('Enter the number of scores : '))\n",
    "arr = map(int, input('Enter scores separated by space : ').split())\n",
    "print('The runner up score is :',sorted(list(set(arr)))[-2])"
   ]
  },
  {
   "cell_type": "markdown",
   "metadata": {},
   "source": [
    "NESTED LISTS"
   ]
  },
  {
   "cell_type": "code",
   "execution_count": 3,
   "metadata": {},
   "outputs": [
    {
     "name": "stdout",
     "output_type": "stream",
     "text": [
      "Enter number of student : 2\n",
      "Enter name of the student : SHALINI\n",
      "Enter marks of the student : 96\n",
      "Enter name of the student : ANANT\n",
      "Enter marks of the student : 90\n",
      "Student scoring second lowest grade is :  SHALINI\n"
     ]
    }
   ],
   "source": [
    " \n",
    "List = [[input('Enter name of the student : '),float(input('Enter marks of the student : '))] for i in range(int(input('Enter number of student : ')))]\n",
    "\n",
    "\n",
    "s = sorted(set([i[1] for i in List]))\n",
    "for name in sorted(i[0] for i in List if i[1] == s[1]):\n",
    "    print('Student scoring second lowest grade is : ',name)"
   ]
  },
  {
   "cell_type": "markdown",
   "metadata": {},
   "source": [
    "LISTS\n",
    "\n",
    "TUPLES"
   ]
  },
  {
   "cell_type": "code",
   "execution_count": 4,
   "metadata": {},
   "outputs": [
    {
     "name": "stdout",
     "output_type": "stream",
     "text": [
      "Number of elements in the tuple are : 5\n",
      "Enter elements giving spaces : 2 3 8 6 5\n",
      "8666484032225486939\n"
     ]
    }
   ],
   "source": [
    "N = int(input('Number of elements in the tuple are : '))\n",
    "List = [int(i) for i in input('Enter elements giving spaces : ').split()] # Split is used to separate values \n",
    "My_tuple = tuple(List)\n",
    "print(hash(My_tuple))"
   ]
  },
  {
   "cell_type": "markdown",
   "metadata": {},
   "source": [
    "INTRODUCTION TO SETS"
   ]
  },
  {
   "cell_type": "code",
   "execution_count": 5,
   "metadata": {},
   "outputs": [
    {
     "name": "stdout",
     "output_type": "stream",
     "text": [
      "Enter total number of trees : 4\n",
      "Enter height of each tree with space : 52 62 85 74\n",
      "Average height would be : 68.25\n"
     ]
    }
   ],
   "source": [
    "\n",
    "def average(array):\n",
    "    average = sum(set(arr))/len(set(arr))\n",
    "    return average\n",
    "\n",
    "if __name__ == '__main__':\n",
    "    N = int(input('Enter total number of trees : '))\n",
    "    arr = list(map(int, input('Enter height of each tree with space : ').split())) # Map convert string to integer.\n",
    "    result = average(arr)\n",
    "    print('Average height would be :', result)"
   ]
  },
  {
   "cell_type": "markdown",
   "metadata": {},
   "source": [
    "NO IDEA!"
   ]
  },
  {
   "cell_type": "code",
   "execution_count": 7,
   "metadata": {},
   "outputs": [
    {
     "name": "stdout",
     "output_type": "stream",
     "text": [
      "Enter elements in your temp array separated by space : 1 2 3 4 5 6\n",
      "Enter integers separated by space in Set A : 2 4 5 6\n",
      "Enter integers separated by space in Set B : 2 4 5\n",
      "My happiness meter is :  1\n"
     ]
    }
   ],
   "source": [
    "\n",
    "S = list(map(int, input('Enter elements in your temp array separated by space : ').strip().split()))\n",
    "Set_A = set(map(int,input('Enter integers separated by space in Set A : ').split()))\n",
    "Set_B = set(map(int,input('Enter integers separated by space in Set B : ').split()))\n",
    "happiness = 0\n",
    "for i in S:\n",
    "    if i in Set_A:\n",
    "        happiness = happiness + 1\n",
    "    if i in Set_B:\n",
    "        happiness = happiness - 1\n",
    "print('My happiness meter is : ',happiness)"
   ]
  },
  {
   "cell_type": "markdown",
   "metadata": {},
   "source": [
    "\n",
    "SYMMETRIC DIFFERENCE"
   ]
  },
  {
   "cell_type": "code",
   "execution_count": 8,
   "metadata": {},
   "outputs": [
    {
     "name": "stdout",
     "output_type": "stream",
     "text": [
      "Enter number of integer in Set A : 4\n",
      "Enter integers separated by space : 2 4 5 9\n",
      "Enter number of integer in Set B : 4\n",
      "Enter integers separated by space : 2 4 11 12\n",
      "5\n",
      "9\n",
      "11\n",
      "12\n"
     ]
    },
    {
     "data": {
      "text/plain": [
       "[None, None, None, None]"
      ]
     },
     "execution_count": 8,
     "metadata": {},
     "output_type": "execute_result"
    }
   ],
   "source": [
    "A = int(input('Enter number of integer in Set A : '))\n",
    "list1 = list(map(int,input('Enter integers separated by space : ').split()))\n",
    "B = int(input('Enter number of integer in Set B : '))\n",
    "list2 = list(map(int,input('Enter integers separated by space : ').split()))\n",
    "[print(i) for i in sorted(set(list1).difference(set(list2)).union(set(list2).difference(set(list1))))]"
   ]
  },
  {
   "cell_type": "markdown",
   "metadata": {},
   "source": [
    "SET.ADD()"
   ]
  },
  {
   "cell_type": "code",
   "execution_count": 9,
   "metadata": {},
   "outputs": [
    {
     "name": "stdout",
     "output_type": "stream",
     "text": [
      "Enter number of countries : 5\n",
      "Enter countries separated by space : UK INDIA US INDIA NZ\n",
      "Number of unique countries : 4\n"
     ]
    }
   ],
   "source": [
    "A = int(input('Enter number of countries : '))\n",
    "list1 = set(map(str,input('Enter countries separated by space : ').split()))\n",
    "print('Number of unique countries :',len(list1))"
   ]
  },
  {
   "cell_type": "markdown",
   "metadata": {},
   "source": [
    "\n",
    "SET.DISCARD(), REMOVE() AND POP()"
   ]
  },
  {
   "cell_type": "code",
   "execution_count": 10,
   "metadata": {},
   "outputs": [
    {
     "name": "stdout",
     "output_type": "stream",
     "text": [
      "Enter number of integers in array : 9\n",
      "Enter elements separated by space : 1 2 3 4 5 6 7 8 9\n",
      "Enter number of commands : 10\n",
      "Enter another set : POP\n",
      "Enter another set : REMOVE 9\n",
      "Enter another set : DISCARD 9\n",
      "Enter another set : DISCARD 8\n",
      "Enter another set : REMOVE 7\n",
      "Enter another set : POP\n",
      "Enter another set : DISCARD 6\n",
      "Enter another set : REMOVE 5\n",
      "Enter another set : POP\n",
      "Enter another set : DISCARD 5\n"
     ]
    },
    {
     "ename": "KeyError",
     "evalue": "'pop from an empty set'",
     "output_type": "error",
     "traceback": [
      "\u001b[1;31m---------------------------------------------------------------------------\u001b[0m",
      "\u001b[1;31mKeyError\u001b[0m                                  Traceback (most recent call last)",
      "\u001b[1;32m<ipython-input-10-e2f65704e129>\u001b[0m in \u001b[0;36m<module>\u001b[1;34m\u001b[0m\n\u001b[0;32m      9\u001b[0m         \u001b[0mElements\u001b[0m\u001b[1;33m.\u001b[0m\u001b[0mdiscard\u001b[0m\u001b[1;33m(\u001b[0m\u001b[0mint\u001b[0m\u001b[1;33m(\u001b[0m\u001b[0mip\u001b[0m\u001b[1;33m[\u001b[0m\u001b[1;36m1\u001b[0m\u001b[1;33m]\u001b[0m\u001b[1;33m)\u001b[0m\u001b[1;33m)\u001b[0m\u001b[1;33m\u001b[0m\u001b[1;33m\u001b[0m\u001b[0m\n\u001b[0;32m     10\u001b[0m     \u001b[1;32melse\u001b[0m \u001b[1;33m:\u001b[0m\u001b[1;33m\u001b[0m\u001b[1;33m\u001b[0m\u001b[0m\n\u001b[1;32m---> 11\u001b[1;33m         \u001b[0mElements\u001b[0m\u001b[1;33m.\u001b[0m\u001b[0mpop\u001b[0m\u001b[1;33m(\u001b[0m\u001b[1;33m)\u001b[0m\u001b[1;33m\u001b[0m\u001b[1;33m\u001b[0m\u001b[0m\n\u001b[0m\u001b[0;32m     12\u001b[0m \u001b[0mprint\u001b[0m\u001b[1;33m(\u001b[0m\u001b[0msum\u001b[0m\u001b[1;33m(\u001b[0m\u001b[0mlist\u001b[0m\u001b[1;33m(\u001b[0m\u001b[0mElements\u001b[0m\u001b[1;33m)\u001b[0m\u001b[1;33m)\u001b[0m\u001b[1;33m)\u001b[0m\u001b[1;33m\u001b[0m\u001b[1;33m\u001b[0m\u001b[0m\n",
      "\u001b[1;31mKeyError\u001b[0m: 'pop from an empty set'"
     ]
    }
   ],
   "source": [
    "N = int(input('Enter number of integers in array : '))\n",
    "Elements = set(map(int,input('Enter elements separated by space : ').split()))\n",
    "Commands = int(input('Enter number of commands : '))\n",
    "for i in range(Commands):\n",
    "    ip = input('Enter another set : ').split()\n",
    "    if ip[0]==\"remove\":\n",
    "        Elements.remove(int(ip[1]))\n",
    "    elif ip[0]==\"discard\":\n",
    "        Elements.discard(int(ip[1]))\n",
    "    else :\n",
    "        Elements.pop()\n",
    "print(sum(list(Elements)))"
   ]
  },
  {
   "cell_type": "markdown",
   "metadata": {},
   "source": [
    "SET.UNION()"
   ]
  },
  {
   "cell_type": "code",
   "execution_count": 11,
   "metadata": {},
   "outputs": [
    {
     "name": "stdout",
     "output_type": "stream",
     "text": [
      "Enter number of students in A : 9\n",
      "Enter Roll numbers seperated by space : 1 2 3 4 5 6 7 8 9\n",
      "Enter number of students in B : 9\n",
      "Enter Roll numbers seperated by space : 10 1 2 3 11 21 65 8 9\n",
      "13\n"
     ]
    }
   ],
   "source": [
    "A = input('Enter number of students in A : ')\n",
    "Roll_number_A = set(map(int,input('Enter Roll numbers seperated by space : ').split()))\n",
    "B = input('Enter number of students in B : ')\n",
    "Roll_number_B = set(map(int,input('Enter Roll numbers seperated by space : ').split()))\n",
    "C = Roll_number_A.union(Roll_number_B)\n",
    "print(len(C))"
   ]
  },
  {
   "cell_type": "markdown",
   "metadata": {},
   "source": [
    "SET.INTERSECTION()"
   ]
  },
  {
   "cell_type": "code",
   "execution_count": 12,
   "metadata": {},
   "outputs": [
    {
     "name": "stdout",
     "output_type": "stream",
     "text": [
      "Enter number of students in A : 9\n",
      "Enter Roll numbers seperated by space : 1 2 3 4 5 6 7 8 9\n",
      "Enter number of students in B : 9\n",
      "Enter Roll numbers seperated by space : 10 1 2 3 11 21 55 6 8\n",
      "5\n"
     ]
    }
   ],
   "source": [
    "A = input('Enter number of students in A : ')\n",
    "Roll_number_A = set(map(int,input('Enter Roll numbers seperated by space : ').split()))\n",
    "B = input('Enter number of students in B : ')\n",
    "Roll_number_B = set(map(int,input('Enter Roll numbers seperated by space : ').split()))\n",
    "C = Roll_number_A.intersection(Roll_number_B)\n",
    "print(len(C))"
   ]
  },
  {
   "cell_type": "markdown",
   "metadata": {},
   "source": [
    "SET.DIFFERENCE()"
   ]
  },
  {
   "cell_type": "code",
   "execution_count": 13,
   "metadata": {},
   "outputs": [
    {
     "name": "stdout",
     "output_type": "stream",
     "text": [
      "Enter number of students in A : 9\n",
      "Enter Roll numbers seperated by space : 1 2 3 4 5 6 7 8 9\n",
      "Enter number of students in B : 9\n",
      "Enter Roll numbers seperated by space : 10 1 2 3 11 21 55 6 8\n",
      "4\n"
     ]
    }
   ],
   "source": [
    "A = input('Enter number of students in A : ')\n",
    "Roll_number_A = set(map(int,input('Enter Roll numbers seperated by space : ').split()))\n",
    "B = input('Enter number of students in B : ')\n",
    "Roll_number_B = set(map(int,input('Enter Roll numbers seperated by space : ').split()))\n",
    "C = Roll_number_A.difference(Roll_number_B)\n",
    "print(len(C))"
   ]
  },
  {
   "cell_type": "markdown",
   "metadata": {},
   "source": [
    "SET.SYMMETRIC_DIFFERENCE()"
   ]
  },
  {
   "cell_type": "code",
   "execution_count": 14,
   "metadata": {},
   "outputs": [
    {
     "name": "stdout",
     "output_type": "stream",
     "text": [
      "Enter number of students in A : 9\n",
      "Enter Roll numbers seperated by space : 1 2 3 4 5 6 7 8 9\n",
      "Enter number of students in B : 9\n",
      "Enter Roll numbers seperated by space : 10 1 2 3 11 21 55 6 8\n",
      "8\n"
     ]
    }
   ],
   "source": [
    "A = input('Enter number of students in A : ')\n",
    "Roll_number_A = set(map(int,input('Enter Roll numbers seperated by space : ').split()))\n",
    "B = input('Enter number of students in B : ')\n",
    "Roll_number_B = set(map(int,input('Enter Roll numbers seperated by space : ').split()))\n",
    "C = Roll_number_A.symmetric_difference(Roll_number_B)\n",
    "print(len(C))"
   ]
  },
  {
   "cell_type": "markdown",
   "metadata": {},
   "source": [
    "\n",
    "SET MUTATIONS"
   ]
  },
  {
   "cell_type": "code",
   "execution_count": 15,
   "metadata": {},
   "outputs": [
    {
     "name": "stdout",
     "output_type": "stream",
     "text": [
      "Enter number of elements in your Set : 16\n",
      "Enter the elements separated by space in Set A : 1 2 3 4 5 6 7 8 9 10 11 12 13 14 24 52\n",
      "Enter Number of other Sets : 4\n",
      "Enter operation : intersection_update 10\n",
      "Enter elements separated by space : 2 3 5 6 8 9 1 4 7 11\n"
     ]
    },
    {
     "ename": "NameError",
     "evalue": "name 'storage' is not defined",
     "output_type": "error",
     "traceback": [
      "\u001b[1;31m---------------------------------------------------------------------------\u001b[0m",
      "\u001b[1;31mNameError\u001b[0m                                 Traceback (most recent call last)",
      "\u001b[1;32m<ipython-input-15-dc1ab3920b9c>\u001b[0m in \u001b[0;36m<module>\u001b[1;34m\u001b[0m\n\u001b[0;32m      6\u001b[0m     \u001b[1;32mif\u001b[0m \u001b[0moperation\u001b[0m\u001b[1;33m[\u001b[0m\u001b[1;36m0\u001b[0m\u001b[1;33m]\u001b[0m \u001b[1;33m==\u001b[0m \u001b[1;34m'intersection_update'\u001b[0m\u001b[1;33m:\u001b[0m\u001b[1;33m\u001b[0m\u001b[1;33m\u001b[0m\u001b[0m\n\u001b[0;32m      7\u001b[0m         \u001b[0mtemp_storage\u001b[0m \u001b[1;33m=\u001b[0m \u001b[0mset\u001b[0m\u001b[1;33m(\u001b[0m\u001b[0mmap\u001b[0m\u001b[1;33m(\u001b[0m\u001b[0mint\u001b[0m\u001b[1;33m,\u001b[0m \u001b[0minput\u001b[0m\u001b[1;33m(\u001b[0m\u001b[1;34m'Enter elements separated by space : '\u001b[0m\u001b[1;33m)\u001b[0m\u001b[1;33m.\u001b[0m\u001b[0msplit\u001b[0m\u001b[1;33m(\u001b[0m\u001b[1;33m)\u001b[0m\u001b[1;33m)\u001b[0m\u001b[1;33m)\u001b[0m\u001b[1;33m\u001b[0m\u001b[1;33m\u001b[0m\u001b[0m\n\u001b[1;32m----> 8\u001b[1;33m         \u001b[0mstorage\u001b[0m\u001b[1;33m.\u001b[0m\u001b[0mintersection_update\u001b[0m\u001b[1;33m(\u001b[0m\u001b[0mtemp_storage\u001b[0m\u001b[1;33m)\u001b[0m\u001b[1;33m\u001b[0m\u001b[1;33m\u001b[0m\u001b[0m\n\u001b[0m\u001b[0;32m      9\u001b[0m     \u001b[1;32melif\u001b[0m \u001b[0moperation\u001b[0m\u001b[1;33m[\u001b[0m\u001b[1;36m0\u001b[0m\u001b[1;33m]\u001b[0m \u001b[1;33m==\u001b[0m \u001b[1;34m'update'\u001b[0m\u001b[1;33m:\u001b[0m\u001b[1;33m\u001b[0m\u001b[1;33m\u001b[0m\u001b[0m\n\u001b[0;32m     10\u001b[0m         \u001b[0mtemp_storage\u001b[0m \u001b[1;33m=\u001b[0m \u001b[0mset\u001b[0m\u001b[1;33m(\u001b[0m\u001b[0mmap\u001b[0m\u001b[1;33m(\u001b[0m\u001b[0mint\u001b[0m\u001b[1;33m,\u001b[0m \u001b[0minput\u001b[0m\u001b[1;33m(\u001b[0m\u001b[1;34m'Enter elements separated by space : '\u001b[0m\u001b[1;33m)\u001b[0m\u001b[1;33m.\u001b[0m\u001b[0msplit\u001b[0m\u001b[1;33m(\u001b[0m\u001b[1;33m)\u001b[0m\u001b[1;33m)\u001b[0m\u001b[1;33m)\u001b[0m\u001b[1;33m\u001b[0m\u001b[1;33m\u001b[0m\u001b[0m\n",
      "\u001b[1;31mNameError\u001b[0m: name 'storage' is not defined"
     ]
    }
   ],
   "source": [
    "Set_A = int(input('Enter number of elements in your Set : '))\n",
    "Temp = set(map(int, input('Enter the elements separated by space in Set A : ').split()))\n",
    "Other_Set = int(input('Enter Number of other Sets : '))\n",
    "for i in range(Other_Set):\n",
    "    operation = input('Enter operation : ').split()\n",
    "    if operation[0] == 'intersection_update':\n",
    "        temp_storage = set(map(int, input('Enter elements separated by space : ').split()))\n",
    "        storage.intersection_update(temp_storage)\n",
    "    elif operation[0] == 'update':\n",
    "        temp_storage = set(map(int, input('Enter elements separated by space : ').split()))\n",
    "        storage.update(temp_storage)\n",
    "    elif operation[0] == 'symmetric_difference_update':\n",
    "        temp_storage = set(map(int, input('Enter elements separated by space : ').split()))\n",
    "        storage.symmetric_difference_update(temp_storage)\n",
    "    elif operation[0] == 'difference_update':\n",
    "        temp_storage = set(map(int, input('Enter elements separated by space : ').split()))\n",
    "        storage.difference_update(temp_storage)\n",
    "    else :\n",
    "        False\n",
    "print(sum(Temp))"
   ]
  },
  {
   "cell_type": "markdown",
   "metadata": {},
   "source": [
    "THE CAPTAIN'S ROOM"
   ]
  },
  {
   "cell_type": "code",
   "execution_count": 16,
   "metadata": {},
   "outputs": [
    {
     "name": "stdout",
     "output_type": "stream",
     "text": [
      "Enter the size of the family members of each group : 5\n",
      "Enter room numbers of the members : 1 2 3 6 5 4 4 2 5 3 6 1 6 5 3 2 4 1 2 5 1 4 3 6 8 4 3 1 5 6 2 \n",
      "8\n"
     ]
    }
   ],
   "source": [
    "N = int(input('Enter the size of the family members of each group : '))\n",
    "Members = map(int,input('Enter room numbers of the members : ').split()) # Suppose 16\n",
    "Members = sorted(Members) # Sorted arrangements\n",
    "for i in range(len(Members)): # For every Member in those 16 Members \n",
    "    if (i != len(Members) - 1):\n",
    "        if (Members[i] != Members[i-1] and Members[i] != Members[i+1]):\n",
    "            print(Members[i])\n",
    "            break\n",
    "    else:\n",
    "        print(Members[i])\n",
    "        "
   ]
  },
  {
   "cell_type": "markdown",
   "metadata": {},
   "source": [
    "\n",
    "CHECK SUBSET"
   ]
  },
  {
   "cell_type": "code",
   "execution_count": 17,
   "metadata": {},
   "outputs": [
    {
     "name": "stdout",
     "output_type": "stream",
     "text": [
      "Enter number of test cases : 3\n",
      "Enter number of elements in Set A : 5\n",
      "Enter elements seperated by space : 1 2 3 5 6\n",
      "Enter number of elements in Set B : 9\n",
      "Enter Roll numbers seperated by space : 9 8 5 6 3 2 1 4 7\n",
      "Is Set A a subset of Set B ?  True\n",
      "Enter number of elements in Set A : 1\n",
      "Enter elements seperated by space : 2\n",
      "Enter number of elements in Set B : 5\n",
      "Enter Roll numbers seperated by space : 3 6 5 4 1\n",
      "Is Set A a subset of Set B ?  False\n",
      "Enter number of elements in Set A : 7\n",
      "Enter elements seperated by space : 1 2 3 5 6 8 9\n",
      "Enter number of elements in Set B : 3\n",
      "Enter Roll numbers seperated by space : 9 8 2\n",
      "Is Set A a subset of Set B ?  False\n"
     ]
    }
   ],
   "source": [
    "T = int(input('Enter number of test cases : '))\n",
    "for _ in range(T):\n",
    "    A = input('Enter number of elements in Set A : ')\n",
    "    Set_A = set(input('Enter elements seperated by space : ').split())\n",
    "    B = int(input('Enter number of elements in Set B : '))\n",
    "    Set_B = set(input('Enter Roll numbers seperated by space : ').split())\n",
    "    print('Is Set A a subset of Set B ? ',Set_A.issubset(Set_B))"
   ]
  },
  {
   "cell_type": "markdown",
   "metadata": {},
   "source": [
    "CHECK STRICT SUPERSET"
   ]
  },
  {
   "cell_type": "code",
   "execution_count": 18,
   "metadata": {},
   "outputs": [
    {
     "name": "stdout",
     "output_type": "stream",
     "text": [
      "Enter number of elements separated by space : 1 2 3 4 5 6 7 8 9 10 11 12 23 45 84 78\n",
      "Number of other set : 2\n",
      "Enter elements in other set : 1 2 3 4 5\n",
      "Enter elements in other set : 100 11 12\n",
      "False\n"
     ]
    }
   ],
   "source": [
    "Main_Set = set(input('Enter number of elements separated by space : ').split())\n",
    "N = int(input('Number of other set : '))\n",
    "output = True\n",
    "for i in range(N):\n",
    "    Other_Set = set(input('Enter elements in other set : ').split())\n",
    "    if not Other_Set.issubset(Main_Set):\n",
    "        output = False\n",
    "    if len(Other_Set) >= len(Main_Set):\n",
    "        output = False\n",
    "\n",
    "print(output)\n"
   ]
  },
  {
   "cell_type": "code",
   "execution_count": null,
   "metadata": {},
   "outputs": [],
   "source": []
  }
 ],
 "metadata": {
  "kernelspec": {
   "display_name": "Python 3",
   "language": "python",
   "name": "python3"
  },
  "language_info": {
   "codemirror_mode": {
    "name": "ipython",
    "version": 3
   },
   "file_extension": ".py",
   "mimetype": "text/x-python",
   "name": "python",
   "nbconvert_exporter": "python",
   "pygments_lexer": "ipython3",
   "version": "3.7.4"
  }
 },
 "nbformat": 4,
 "nbformat_minor": 2
}
